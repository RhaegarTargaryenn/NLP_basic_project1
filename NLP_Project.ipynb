{
 "cells": [
  {
   "cell_type": "markdown",
   "id": "2231ce0a-7620-4bed-8322-63c76e9c0242",
   "metadata": {},
   "source": [
    "import requests\n",
    "import pandas as pd\n",
    "import time\n",
    "\n",
    "# API details\n",
    "api_key = '8265bd1679663a7ea12ac168da84d2e8'\n",
    "base_url = 'https://api.themoviedb.org/3/movie/top_rated'\n",
    "language = 'en-US'\n",
    "total_pages = 471\n",
    "max_retries = 5\n",
    "\n",
    "# List to hold movie data\n",
    "movies = []\n",
    "\n",
    "# Function to fetch data from API with retry mechanism\n",
    "def fetch_data_with_retries(url, params, max_retries=5):\n",
    "    retries = 0\n",
    "    backoff_time = 1  # initial backoff time in seconds\n",
    "    while retries < max_retries:\n",
    "        try:\n",
    "            response = requests.get(url, params=params)\n",
    "            response.raise_for_status()\n",
    "            return response.json()\n",
    "        except (requests.exceptions.RequestException, requests.exceptions.ConnectionError) as e:\n",
    "            print(f\"Error: {e}, Retrying... ({retries+1}/{max_retries})\")\n",
    "            retries += 1\n",
    "            time.sleep(backoff_time)\n",
    "            backoff_time *= 2  # exponential backoff\n",
    "    raise Exception(\"Max retries exceeded\")\n",
    "\n",
    "# Fetch movie data from all pages\n",
    "for page in range(1, total_pages + 1):\n",
    "    print(f\"Fetching page {page}/{total_pages}\")\n",
    "    params = {'api_key': api_key, 'language': language, 'page': page}\n",
    "    try:\n",
    "        data = fetch_data_with_retries(base_url, params, max_retries)\n",
    "    except Exception as e:\n",
    "        print(f\"Failed to fetch data for page {page}: {e}\")\n",
    "        continue\n",
    "    \n",
    "    # Extract required fields\n",
    "    for movie in data['results']:\n",
    "        movie_info = {\n",
    "            'title': movie['title'],\n",
    "            'description': movie['overview'],\n",
    "            'genres': movie['genre_ids']\n",
    "        }\n",
    "        movies.append(movie_info)\n",
    "\n",
    "# Convert to DataFrame\n",
    "df = pd.DataFrame(movies)"
   ]
  },
  {
   "cell_type": "markdown",
   "id": "d26757f8-ce86-470d-ab09-763a15f548c6",
   "metadata": {},
   "source": [
    "df"
   ]
  },
  {
   "cell_type": "markdown",
   "id": "beaa11d4-2bd4-43f6-9063-f2bc858a7dc1",
   "metadata": {},
   "source": [
    "api_key = '8265bd1679663a7ea12ac168da84d2e8'\n",
    "genre_url = 'https://api.themoviedb.org/3/genre/movie/list'\n",
    "language = 'en-US'"
   ]
  },
  {
   "cell_type": "markdown",
   "id": "08431bcd-b7db-4da1-a841-eb2a51d4065b",
   "metadata": {},
   "source": [
    "# Fetch genre data\n",
    "def fetch_genres(api_key, genre_url, language):\n",
    "    params = {'api_key': api_key, 'language': language}\n",
    "    response = requests.get(genre_url, params=params)\n",
    "    data = response.json()\n",
    "    return {genre['id']: genre['name'] for genre in data['genres']}"
   ]
  },
  {
   "cell_type": "markdown",
   "id": "6387f050-8100-485a-862e-8bf35333b90a",
   "metadata": {},
   "source": [
    "# Fetch genres\n",
    "genre_mapping = fetch_genres(api_key, genre_url, language)"
   ]
  },
  {
   "cell_type": "markdown",
   "id": "8e5feb2a-aeac-4d6f-a079-aec0f7ce4f9a",
   "metadata": {},
   "source": [
    "# Function to replace genre IDs with names\n",
    "def replace_genre_ids(genres):\n",
    "    return [genre_mapping.get(genre_id, 'Unknown') for genre_id in eval(genres)]"
   ]
  },
  {
   "cell_type": "markdown",
   "id": "0123acbe-12a8-49ee-b7ec-a58fd84eae03",
   "metadata": {},
   "source": [
    "# Replace genre IDs with names in the DataFrame\n",
    "df['genres'] = df['genres'].apply(replace_genre_ids)"
   ]
  },
  {
   "cell_type": "markdown",
   "id": "5fb07e9f-3710-4578-a54a-87351cda96e9",
   "metadata": {},
   "source": [
    "df"
   ]
  },
  {
   "cell_type": "markdown",
   "id": "6b2b111b-2028-4816-89ae-fa55c784266d",
   "metadata": {},
   "source": [
    "# Save the updated DataFrame\n",
    "df.to_csv('movies_dataset_with_genres.csv', index=False)"
   ]
  },
  {
   "cell_type": "markdown",
   "id": "17d98e49-559a-4b21-ab95-970e37559a2e",
   "metadata": {},
   "source": [
    "df.head(5)"
   ]
  },
  {
   "cell_type": "markdown",
   "id": "e5152fa8-4dbb-4f92-9606-f24b2a4cf808",
   "metadata": {},
   "source": [
    "#                                                           Now let's move to texrt pre-processing  "
   ]
  },
  {
   "cell_type": "markdown",
   "id": "5f860314-6c7d-412d-8805-1cccc67036d1",
   "metadata": {},
   "source": [
    "#### First Lowercasing the description "
   ]
  },
  {
   "cell_type": "code",
   "execution_count": 1,
   "id": "3771d03d-61eb-4f66-b555-49cde7d99cf3",
   "metadata": {},
   "outputs": [],
   "source": [
    "import pandas as pd "
   ]
  },
  {
   "cell_type": "code",
   "execution_count": 2,
   "id": "ce036163-a88d-4d91-8e9f-07b70856e0f3",
   "metadata": {},
   "outputs": [],
   "source": [
    "df = pd.read_csv('movies_dataset_with_genres.csv')"
   ]
  },
  {
   "cell_type": "code",
   "execution_count": 3,
   "id": "2805094b-d580-40a8-8c69-e7e624d28126",
   "metadata": {},
   "outputs": [
    {
     "data": {
      "text/html": [
       "<div>\n",
       "<style scoped>\n",
       "    .dataframe tbody tr th:only-of-type {\n",
       "        vertical-align: middle;\n",
       "    }\n",
       "\n",
       "    .dataframe tbody tr th {\n",
       "        vertical-align: top;\n",
       "    }\n",
       "\n",
       "    .dataframe thead th {\n",
       "        text-align: right;\n",
       "    }\n",
       "</style>\n",
       "<table border=\"1\" class=\"dataframe\">\n",
       "  <thead>\n",
       "    <tr style=\"text-align: right;\">\n",
       "      <th></th>\n",
       "      <th>title</th>\n",
       "      <th>description</th>\n",
       "      <th>genres</th>\n",
       "    </tr>\n",
       "  </thead>\n",
       "  <tbody>\n",
       "    <tr>\n",
       "      <th>0</th>\n",
       "      <td>The Shawshank Redemption</td>\n",
       "      <td>Imprisoned in the 1940s for the double murder ...</td>\n",
       "      <td>['Drama', 'Crime']</td>\n",
       "    </tr>\n",
       "    <tr>\n",
       "      <th>1</th>\n",
       "      <td>The Godfather</td>\n",
       "      <td>Spanning the years 1945 to 1955, a chronicle o...</td>\n",
       "      <td>['Drama', 'Crime']</td>\n",
       "    </tr>\n",
       "    <tr>\n",
       "      <th>2</th>\n",
       "      <td>The Godfather Part II</td>\n",
       "      <td>In the continuing saga of the Corleone crime f...</td>\n",
       "      <td>['Drama', 'Crime']</td>\n",
       "    </tr>\n",
       "    <tr>\n",
       "      <th>3</th>\n",
       "      <td>Schindler's List</td>\n",
       "      <td>The true story of how businessman Oskar Schind...</td>\n",
       "      <td>['Drama', 'History', 'War']</td>\n",
       "    </tr>\n",
       "    <tr>\n",
       "      <th>4</th>\n",
       "      <td>12 Angry Men</td>\n",
       "      <td>The defense and the prosecution have rested an...</td>\n",
       "      <td>['Drama']</td>\n",
       "    </tr>\n",
       "  </tbody>\n",
       "</table>\n",
       "</div>"
      ],
      "text/plain": [
       "                      title  \\\n",
       "0  The Shawshank Redemption   \n",
       "1             The Godfather   \n",
       "2     The Godfather Part II   \n",
       "3          Schindler's List   \n",
       "4              12 Angry Men   \n",
       "\n",
       "                                         description  \\\n",
       "0  Imprisoned in the 1940s for the double murder ...   \n",
       "1  Spanning the years 1945 to 1955, a chronicle o...   \n",
       "2  In the continuing saga of the Corleone crime f...   \n",
       "3  The true story of how businessman Oskar Schind...   \n",
       "4  The defense and the prosecution have rested an...   \n",
       "\n",
       "                        genres  \n",
       "0           ['Drama', 'Crime']  \n",
       "1           ['Drama', 'Crime']  \n",
       "2           ['Drama', 'Crime']  \n",
       "3  ['Drama', 'History', 'War']  \n",
       "4                    ['Drama']  "
      ]
     },
     "execution_count": 3,
     "metadata": {},
     "output_type": "execute_result"
    }
   ],
   "source": [
    "df.head()"
   ]
  },
  {
   "cell_type": "code",
   "execution_count": 4,
   "id": "c2a35e37-1e28-45fc-82e4-2deaca4a75a9",
   "metadata": {},
   "outputs": [],
   "source": [
    "df['description'] = df['description'].str.lower()"
   ]
  },
  {
   "cell_type": "code",
   "execution_count": 5,
   "id": "cdc5a998-d840-4e19-a6c4-4dd23946883b",
   "metadata": {},
   "outputs": [
    {
     "data": {
      "text/html": [
       "<div>\n",
       "<style scoped>\n",
       "    .dataframe tbody tr th:only-of-type {\n",
       "        vertical-align: middle;\n",
       "    }\n",
       "\n",
       "    .dataframe tbody tr th {\n",
       "        vertical-align: top;\n",
       "    }\n",
       "\n",
       "    .dataframe thead th {\n",
       "        text-align: right;\n",
       "    }\n",
       "</style>\n",
       "<table border=\"1\" class=\"dataframe\">\n",
       "  <thead>\n",
       "    <tr style=\"text-align: right;\">\n",
       "      <th></th>\n",
       "      <th>title</th>\n",
       "      <th>description</th>\n",
       "      <th>genres</th>\n",
       "    </tr>\n",
       "  </thead>\n",
       "  <tbody>\n",
       "    <tr>\n",
       "      <th>0</th>\n",
       "      <td>The Shawshank Redemption</td>\n",
       "      <td>imprisoned in the 1940s for the double murder ...</td>\n",
       "      <td>['Drama', 'Crime']</td>\n",
       "    </tr>\n",
       "    <tr>\n",
       "      <th>1</th>\n",
       "      <td>The Godfather</td>\n",
       "      <td>spanning the years 1945 to 1955, a chronicle o...</td>\n",
       "      <td>['Drama', 'Crime']</td>\n",
       "    </tr>\n",
       "    <tr>\n",
       "      <th>2</th>\n",
       "      <td>The Godfather Part II</td>\n",
       "      <td>in the continuing saga of the corleone crime f...</td>\n",
       "      <td>['Drama', 'Crime']</td>\n",
       "    </tr>\n",
       "    <tr>\n",
       "      <th>3</th>\n",
       "      <td>Schindler's List</td>\n",
       "      <td>the true story of how businessman oskar schind...</td>\n",
       "      <td>['Drama', 'History', 'War']</td>\n",
       "    </tr>\n",
       "    <tr>\n",
       "      <th>4</th>\n",
       "      <td>12 Angry Men</td>\n",
       "      <td>the defense and the prosecution have rested an...</td>\n",
       "      <td>['Drama']</td>\n",
       "    </tr>\n",
       "  </tbody>\n",
       "</table>\n",
       "</div>"
      ],
      "text/plain": [
       "                      title  \\\n",
       "0  The Shawshank Redemption   \n",
       "1             The Godfather   \n",
       "2     The Godfather Part II   \n",
       "3          Schindler's List   \n",
       "4              12 Angry Men   \n",
       "\n",
       "                                         description  \\\n",
       "0  imprisoned in the 1940s for the double murder ...   \n",
       "1  spanning the years 1945 to 1955, a chronicle o...   \n",
       "2  in the continuing saga of the corleone crime f...   \n",
       "3  the true story of how businessman oskar schind...   \n",
       "4  the defense and the prosecution have rested an...   \n",
       "\n",
       "                        genres  \n",
       "0           ['Drama', 'Crime']  \n",
       "1           ['Drama', 'Crime']  \n",
       "2           ['Drama', 'Crime']  \n",
       "3  ['Drama', 'History', 'War']  \n",
       "4                    ['Drama']  "
      ]
     },
     "execution_count": 5,
     "metadata": {},
     "output_type": "execute_result"
    }
   ],
   "source": [
    "df.head()"
   ]
  },
  {
   "cell_type": "markdown",
   "id": "64fbef1e-c676-40ee-863b-99bba5a0b167",
   "metadata": {},
   "source": [
    " #### Now let's remove punctuation"
   ]
  },
  {
   "cell_type": "code",
   "execution_count": 6,
   "id": "a3a7d849-4d36-4c74-aa76-3682c6b1fb4b",
   "metadata": {},
   "outputs": [],
   "source": [
    "import string"
   ]
  },
  {
   "cell_type": "code",
   "execution_count": 7,
   "id": "11b75527-bd44-4298-a0d8-c47b7785bb0a",
   "metadata": {},
   "outputs": [],
   "source": [
    "def remove_punctuation(text):\n",
    "    if isinstance(text, str):\n",
    "        return text.translate(str.maketrans('', '', string.punctuation))\n",
    "    return ''"
   ]
  },
  {
   "cell_type": "code",
   "execution_count": 8,
   "id": "e1062ea8-cd47-4be4-9847-6cade1c83b63",
   "metadata": {},
   "outputs": [],
   "source": [
    "# Remove punctuation from the 'description' column\n",
    "df['description'] = df['description'].apply(remove_punctuation)"
   ]
  },
  {
   "cell_type": "code",
   "execution_count": 9,
   "id": "51de5689-a3d1-4cbe-a6a7-323fdbfcd5ff",
   "metadata": {},
   "outputs": [
    {
     "data": {
      "text/html": [
       "<div>\n",
       "<style scoped>\n",
       "    .dataframe tbody tr th:only-of-type {\n",
       "        vertical-align: middle;\n",
       "    }\n",
       "\n",
       "    .dataframe tbody tr th {\n",
       "        vertical-align: top;\n",
       "    }\n",
       "\n",
       "    .dataframe thead th {\n",
       "        text-align: right;\n",
       "    }\n",
       "</style>\n",
       "<table border=\"1\" class=\"dataframe\">\n",
       "  <thead>\n",
       "    <tr style=\"text-align: right;\">\n",
       "      <th></th>\n",
       "      <th>title</th>\n",
       "      <th>description</th>\n",
       "      <th>genres</th>\n",
       "    </tr>\n",
       "  </thead>\n",
       "  <tbody>\n",
       "    <tr>\n",
       "      <th>0</th>\n",
       "      <td>The Shawshank Redemption</td>\n",
       "      <td>imprisoned in the 1940s for the double murder ...</td>\n",
       "      <td>['Drama', 'Crime']</td>\n",
       "    </tr>\n",
       "    <tr>\n",
       "      <th>1</th>\n",
       "      <td>The Godfather</td>\n",
       "      <td>spanning the years 1945 to 1955 a chronicle of...</td>\n",
       "      <td>['Drama', 'Crime']</td>\n",
       "    </tr>\n",
       "    <tr>\n",
       "      <th>2</th>\n",
       "      <td>The Godfather Part II</td>\n",
       "      <td>in the continuing saga of the corleone crime f...</td>\n",
       "      <td>['Drama', 'Crime']</td>\n",
       "    </tr>\n",
       "    <tr>\n",
       "      <th>3</th>\n",
       "      <td>Schindler's List</td>\n",
       "      <td>the true story of how businessman oskar schind...</td>\n",
       "      <td>['Drama', 'History', 'War']</td>\n",
       "    </tr>\n",
       "    <tr>\n",
       "      <th>4</th>\n",
       "      <td>12 Angry Men</td>\n",
       "      <td>the defense and the prosecution have rested an...</td>\n",
       "      <td>['Drama']</td>\n",
       "    </tr>\n",
       "  </tbody>\n",
       "</table>\n",
       "</div>"
      ],
      "text/plain": [
       "                      title  \\\n",
       "0  The Shawshank Redemption   \n",
       "1             The Godfather   \n",
       "2     The Godfather Part II   \n",
       "3          Schindler's List   \n",
       "4              12 Angry Men   \n",
       "\n",
       "                                         description  \\\n",
       "0  imprisoned in the 1940s for the double murder ...   \n",
       "1  spanning the years 1945 to 1955 a chronicle of...   \n",
       "2  in the continuing saga of the corleone crime f...   \n",
       "3  the true story of how businessman oskar schind...   \n",
       "4  the defense and the prosecution have rested an...   \n",
       "\n",
       "                        genres  \n",
       "0           ['Drama', 'Crime']  \n",
       "1           ['Drama', 'Crime']  \n",
       "2           ['Drama', 'Crime']  \n",
       "3  ['Drama', 'History', 'War']  \n",
       "4                    ['Drama']  "
      ]
     },
     "execution_count": 9,
     "metadata": {},
     "output_type": "execute_result"
    }
   ],
   "source": [
    "df.head()"
   ]
  },
  {
   "cell_type": "markdown",
   "id": "d607c287-3ec3-4b1d-b709-ced835325ca6",
   "metadata": {},
   "source": [
    "#### Let's do spelling checking "
   ]
  },
  {
   "cell_type": "markdown",
   "id": "b6eb4f4a-54ab-4b6b-a3ca-7403693f4171",
   "metadata": {},
   "source": [
    "from textblob import TextBlob"
   ]
  },
  {
   "cell_type": "markdown",
   "id": "59b7a936-6f5b-4b26-a3ff-ebd46ad129cb",
   "metadata": {},
   "source": [
    "def spelling_check(text):\n",
    "    return str(TextBlob(text).correct())\n",
    "\n",
    "def correct_spelling(text):\n",
    "    return str(TextBlob(text).correct())"
   ]
  },
  {
   "cell_type": "markdown",
   "id": "f0f6d749-a380-4555-b438-8ecfc899e5cf",
   "metadata": {},
   "source": [
    "df['description'] = df['description'].apply(correct_spelling)"
   ]
  },
  {
   "cell_type": "markdown",
   "id": "064631ce-ce78-438d-a5a0-6577ba747bbc",
   "metadata": {},
   "source": [
    "df.head()"
   ]
  },
  {
   "cell_type": "markdown",
   "id": "8b137862-fdff-44e3-b321-af4a08dbe3a7",
   "metadata": {},
   "source": [
    "#### Now let's move to Word Tokenization step "
   ]
  },
  {
   "cell_type": "code",
   "execution_count": 14,
   "id": "ab2ea415-e28f-45b7-ac96-c3478770e813",
   "metadata": {},
   "outputs": [],
   "source": [
    "import spacy"
   ]
  },
  {
   "cell_type": "code",
   "execution_count": 15,
   "id": "1a3bafd0-d4ff-4046-88f3-dd9896c1ef60",
   "metadata": {},
   "outputs": [],
   "source": [
    "nlp=spacy.load('en_core_web_sm')"
   ]
  },
  {
   "cell_type": "code",
   "execution_count": 19,
   "id": "62dc0d80-7750-41cb-8489-a4eb81358b04",
   "metadata": {},
   "outputs": [],
   "source": [
    "def word_tokenization(text):\n",
    "    doc=nlp(text)\n",
    "    return(token.text for token in doc)"
   ]
  },
  {
   "cell_type": "code",
   "execution_count": 24,
   "id": "1a518c94-ae51-414b-816d-a5e834614dcb",
   "metadata": {},
   "outputs": [],
   "source": [
    "# Apply word tokenization to the 'description' column\n",
    "df['description_tokens'] = df['description'].apply(lambda x: list(word_tokenization(x)))"
   ]
  },
  {
   "cell_type": "code",
   "execution_count": 25,
   "id": "fd921c6b-2a2e-433e-8349-c533ed349b1e",
   "metadata": {},
   "outputs": [
    {
     "data": {
      "text/html": [
       "<div>\n",
       "<style scoped>\n",
       "    .dataframe tbody tr th:only-of-type {\n",
       "        vertical-align: middle;\n",
       "    }\n",
       "\n",
       "    .dataframe tbody tr th {\n",
       "        vertical-align: top;\n",
       "    }\n",
       "\n",
       "    .dataframe thead th {\n",
       "        text-align: right;\n",
       "    }\n",
       "</style>\n",
       "<table border=\"1\" class=\"dataframe\">\n",
       "  <thead>\n",
       "    <tr style=\"text-align: right;\">\n",
       "      <th></th>\n",
       "      <th>title</th>\n",
       "      <th>description</th>\n",
       "      <th>genres</th>\n",
       "      <th>description_tokens</th>\n",
       "    </tr>\n",
       "  </thead>\n",
       "  <tbody>\n",
       "    <tr>\n",
       "      <th>0</th>\n",
       "      <td>The Shawshank Redemption</td>\n",
       "      <td>imprisoned in the 1940s for the double murder ...</td>\n",
       "      <td>['Drama', 'Crime']</td>\n",
       "      <td>[imprisoned, in, the, 1940s, for, the, double,...</td>\n",
       "    </tr>\n",
       "    <tr>\n",
       "      <th>1</th>\n",
       "      <td>The Godfather</td>\n",
       "      <td>spanning the years 1945 to 1955 a chronicle of...</td>\n",
       "      <td>['Drama', 'Crime']</td>\n",
       "      <td>[spanning, the, years, 1945, to, 1955, a, chro...</td>\n",
       "    </tr>\n",
       "    <tr>\n",
       "      <th>2</th>\n",
       "      <td>The Godfather Part II</td>\n",
       "      <td>in the continuing saga of the corleone crime f...</td>\n",
       "      <td>['Drama', 'Crime']</td>\n",
       "      <td>[in, the, continuing, saga, of, the, corleone,...</td>\n",
       "    </tr>\n",
       "    <tr>\n",
       "      <th>3</th>\n",
       "      <td>Schindler's List</td>\n",
       "      <td>the true story of how businessman oskar schind...</td>\n",
       "      <td>['Drama', 'History', 'War']</td>\n",
       "      <td>[the, true, story, of, how, businessman, oskar...</td>\n",
       "    </tr>\n",
       "    <tr>\n",
       "      <th>4</th>\n",
       "      <td>12 Angry Men</td>\n",
       "      <td>the defense and the prosecution have rested an...</td>\n",
       "      <td>['Drama']</td>\n",
       "      <td>[the, defense, and, the, prosecution, have, re...</td>\n",
       "    </tr>\n",
       "  </tbody>\n",
       "</table>\n",
       "</div>"
      ],
      "text/plain": [
       "                      title  \\\n",
       "0  The Shawshank Redemption   \n",
       "1             The Godfather   \n",
       "2     The Godfather Part II   \n",
       "3          Schindler's List   \n",
       "4              12 Angry Men   \n",
       "\n",
       "                                         description  \\\n",
       "0  imprisoned in the 1940s for the double murder ...   \n",
       "1  spanning the years 1945 to 1955 a chronicle of...   \n",
       "2  in the continuing saga of the corleone crime f...   \n",
       "3  the true story of how businessman oskar schind...   \n",
       "4  the defense and the prosecution have rested an...   \n",
       "\n",
       "                        genres  \\\n",
       "0           ['Drama', 'Crime']   \n",
       "1           ['Drama', 'Crime']   \n",
       "2           ['Drama', 'Crime']   \n",
       "3  ['Drama', 'History', 'War']   \n",
       "4                    ['Drama']   \n",
       "\n",
       "                                  description_tokens  \n",
       "0  [imprisoned, in, the, 1940s, for, the, double,...  \n",
       "1  [spanning, the, years, 1945, to, 1955, a, chro...  \n",
       "2  [in, the, continuing, saga, of, the, corleone,...  \n",
       "3  [the, true, story, of, how, businessman, oskar...  \n",
       "4  [the, defense, and, the, prosecution, have, re...  "
      ]
     },
     "execution_count": 25,
     "metadata": {},
     "output_type": "execute_result"
    }
   ],
   "source": [
    "df.head()"
   ]
  },
  {
   "cell_type": "markdown",
   "id": "bd7c02fd-bcff-4d80-972c-d0c49ae92424",
   "metadata": {},
   "source": [
    "#### now let's do Lemmatization"
   ]
  },
  {
   "cell_type": "code",
   "execution_count": 28,
   "id": "a3eaa547-ee10-4f39-aed6-b784dc4d9d4e",
   "metadata": {},
   "outputs": [],
   "source": [
    "# Function to lemmatize text\n",
    "def lemmatize_text(text):\n",
    "    doc = nlp(text)\n",
    "    return [token.lemma_ for token in doc]"
   ]
  },
  {
   "cell_type": "code",
   "execution_count": 30,
   "id": "4c133d7b-6eb5-430f-906c-d2f3b6430812",
   "metadata": {},
   "outputs": [],
   "source": [
    "# Apply lemmatization to the 'description' column\n",
    "df['description_lemmatized'] = df['description'].apply(lambda x: ' '.join(lemmatize_text(x)))"
   ]
  },
  {
   "cell_type": "code",
   "execution_count": 31,
   "id": "ef41588b-dd84-4234-a817-c4ea5217f33d",
   "metadata": {},
   "outputs": [
    {
     "data": {
      "text/html": [
       "<div>\n",
       "<style scoped>\n",
       "    .dataframe tbody tr th:only-of-type {\n",
       "        vertical-align: middle;\n",
       "    }\n",
       "\n",
       "    .dataframe tbody tr th {\n",
       "        vertical-align: top;\n",
       "    }\n",
       "\n",
       "    .dataframe thead th {\n",
       "        text-align: right;\n",
       "    }\n",
       "</style>\n",
       "<table border=\"1\" class=\"dataframe\">\n",
       "  <thead>\n",
       "    <tr style=\"text-align: right;\">\n",
       "      <th></th>\n",
       "      <th>title</th>\n",
       "      <th>description</th>\n",
       "      <th>genres</th>\n",
       "      <th>description_tokens</th>\n",
       "      <th>description_lemmatized</th>\n",
       "    </tr>\n",
       "  </thead>\n",
       "  <tbody>\n",
       "    <tr>\n",
       "      <th>0</th>\n",
       "      <td>The Shawshank Redemption</td>\n",
       "      <td>imprisoned in the 1940s for the double murder ...</td>\n",
       "      <td>['Drama', 'Crime']</td>\n",
       "      <td>[imprisoned, in, the, 1940s, for, the, double,...</td>\n",
       "      <td>imprison in the 1940 for the double murder of ...</td>\n",
       "    </tr>\n",
       "    <tr>\n",
       "      <th>1</th>\n",
       "      <td>The Godfather</td>\n",
       "      <td>spanning the years 1945 to 1955 a chronicle of...</td>\n",
       "      <td>['Drama', 'Crime']</td>\n",
       "      <td>[spanning, the, years, 1945, to, 1955, a, chro...</td>\n",
       "      <td>span the year 1945 to 1955 a chronicle of the ...</td>\n",
       "    </tr>\n",
       "    <tr>\n",
       "      <th>2</th>\n",
       "      <td>The Godfather Part II</td>\n",
       "      <td>in the continuing saga of the corleone crime f...</td>\n",
       "      <td>['Drama', 'Crime']</td>\n",
       "      <td>[in, the, continuing, saga, of, the, corleone,...</td>\n",
       "      <td>in the continue saga of the corleone crime fam...</td>\n",
       "    </tr>\n",
       "    <tr>\n",
       "      <th>3</th>\n",
       "      <td>Schindler's List</td>\n",
       "      <td>the true story of how businessman oskar schind...</td>\n",
       "      <td>['Drama', 'History', 'War']</td>\n",
       "      <td>[the, true, story, of, how, businessman, oskar...</td>\n",
       "      <td>the true story of how businessman oskar schind...</td>\n",
       "    </tr>\n",
       "    <tr>\n",
       "      <th>4</th>\n",
       "      <td>12 Angry Men</td>\n",
       "      <td>the defense and the prosecution have rested an...</td>\n",
       "      <td>['Drama']</td>\n",
       "      <td>[the, defense, and, the, prosecution, have, re...</td>\n",
       "      <td>the defense and the prosecution have rest and ...</td>\n",
       "    </tr>\n",
       "  </tbody>\n",
       "</table>\n",
       "</div>"
      ],
      "text/plain": [
       "                      title  \\\n",
       "0  The Shawshank Redemption   \n",
       "1             The Godfather   \n",
       "2     The Godfather Part II   \n",
       "3          Schindler's List   \n",
       "4              12 Angry Men   \n",
       "\n",
       "                                         description  \\\n",
       "0  imprisoned in the 1940s for the double murder ...   \n",
       "1  spanning the years 1945 to 1955 a chronicle of...   \n",
       "2  in the continuing saga of the corleone crime f...   \n",
       "3  the true story of how businessman oskar schind...   \n",
       "4  the defense and the prosecution have rested an...   \n",
       "\n",
       "                        genres  \\\n",
       "0           ['Drama', 'Crime']   \n",
       "1           ['Drama', 'Crime']   \n",
       "2           ['Drama', 'Crime']   \n",
       "3  ['Drama', 'History', 'War']   \n",
       "4                    ['Drama']   \n",
       "\n",
       "                                  description_tokens  \\\n",
       "0  [imprisoned, in, the, 1940s, for, the, double,...   \n",
       "1  [spanning, the, years, 1945, to, 1955, a, chro...   \n",
       "2  [in, the, continuing, saga, of, the, corleone,...   \n",
       "3  [the, true, story, of, how, businessman, oskar...   \n",
       "4  [the, defense, and, the, prosecution, have, re...   \n",
       "\n",
       "                              description_lemmatized  \n",
       "0  imprison in the 1940 for the double murder of ...  \n",
       "1  span the year 1945 to 1955 a chronicle of the ...  \n",
       "2  in the continue saga of the corleone crime fam...  \n",
       "3  the true story of how businessman oskar schind...  \n",
       "4  the defense and the prosecution have rest and ...  "
      ]
     },
     "execution_count": 31,
     "metadata": {},
     "output_type": "execute_result"
    }
   ],
   "source": [
    "df.head()"
   ]
  },
  {
   "cell_type": "code",
   "execution_count": 32,
   "id": "cc87e120-335e-4fd7-aa47-adcb4e977837",
   "metadata": {},
   "outputs": [],
   "source": [
    "\n",
    "df.to_csv('movies_dataset_with_genres.csv', index=False)"
   ]
  }
 ],
 "metadata": {
  "kernelspec": {
   "display_name": "Python 3 (ipykernel)",
   "language": "python",
   "name": "python3"
  },
  "language_info": {
   "codemirror_mode": {
    "name": "ipython",
    "version": 3
   },
   "file_extension": ".py",
   "mimetype": "text/x-python",
   "name": "python",
   "nbconvert_exporter": "python",
   "pygments_lexer": "ipython3",
   "version": "3.11.7"
  }
 },
 "nbformat": 4,
 "nbformat_minor": 5
}
